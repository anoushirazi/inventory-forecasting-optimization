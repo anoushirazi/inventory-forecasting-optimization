{
 "cells": [
  {
   "cell_type": "markdown",
   "id": "7cc491d5",
   "metadata": {},
   "source": [
    "# Time Series Forecasting with Prophet"
   ]
  },
  {
   "cell_type": "markdown",
   "id": "8386496c",
   "metadata": {},
   "source": [
    "## Data Preprocessing for Prophet"
   ]
  },
  {
   "cell_type": "code",
   "execution_count": null,
   "id": "998e4b8d",
   "metadata": {},
   "outputs": [],
   "source": [
    "\n",
    "weekly_sales = df.groupby('Date').agg({'Total Amount': 'sum'}).reset_index()\n",
    "weekly_sales.columns = ['ds', 'y']\n"
   ]
  },
  {
   "cell_type": "markdown",
   "id": "f7e4537d",
   "metadata": {},
   "source": [
    "## Prophet Model Forecasting"
   ]
  },
  {
   "cell_type": "code",
   "execution_count": null,
   "id": "f3795240",
   "metadata": {},
   "outputs": [],
   "source": [
    "\n",
    "from fbprophet import Prophet\n",
    "model = Prophet()\n",
    "model.fit(weekly_sales)\n",
    "future = model.make_future_dataframe(periods=12, freq='W')\n",
    "forecast = model.predict(future)\n",
    "model.plot(forecast)\n"
   ]
  }
 ],
 "metadata": {},
 "nbformat": 4,
 "nbformat_minor": 5
}
