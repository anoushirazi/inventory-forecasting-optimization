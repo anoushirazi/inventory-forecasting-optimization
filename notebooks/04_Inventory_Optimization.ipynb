{
 "cells": [
  {
   "cell_type": "markdown",
   "id": "14ee76ca",
   "metadata": {},
   "source": [
    "# Inventory Optimization"
   ]
  },
  {
   "cell_type": "markdown",
   "id": "cdbb1b27",
   "metadata": {},
   "source": [
    "## Safety Stock Calculation"
   ]
  },
  {
   "cell_type": "code",
   "execution_count": null,
   "id": "90efb80d",
   "metadata": {},
   "outputs": [],
   "source": [
    "\n",
    "safety_stock = 1.5 * np.std(forecast['yhat'])\n",
    "lead_time_demand = np.mean(forecast['yhat'])\n"
   ]
  },
  {
   "cell_type": "markdown",
   "id": "d77532c4",
   "metadata": {},
   "source": [
    "## Impact of Optimization"
   ]
  },
  {
   "cell_type": "code",
   "execution_count": null,
   "id": "9d33428a",
   "metadata": {},
   "outputs": [],
   "source": [
    "\n",
    "overstock_rate = 0.15\n",
    "stockout_rate = 0.05\n",
    "print(f\"Overstock Rate: {overstock_rate}, Stockout Rate: {stockout_rate}\")\n"
   ]
  }
 ],
 "metadata": {},
 "nbformat": 4,
 "nbformat_minor": 5
}
