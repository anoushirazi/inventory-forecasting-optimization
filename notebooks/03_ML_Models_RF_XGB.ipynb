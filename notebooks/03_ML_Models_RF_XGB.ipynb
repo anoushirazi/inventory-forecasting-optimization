{
 "cells": [
  {
   "cell_type": "markdown",
   "id": "1593bf10",
   "metadata": {},
   "source": [
    "# Machine Learning Models: Random Forest & XGBoost"
   ]
  },
  {
   "cell_type": "markdown",
   "id": "279a645c",
   "metadata": {},
   "source": [
    "## Feature Engineering"
   ]
  },
  {
   "cell_type": "code",
   "execution_count": null,
   "id": "9df5cec7",
   "metadata": {},
   "outputs": [],
   "source": [
    "\n",
    "df['lag1'] = df['Total Amount'].shift(1)\n",
    "df.dropna(inplace=True)\n"
   ]
  },
  {
   "cell_type": "markdown",
   "id": "876b65bb",
   "metadata": {},
   "source": [
    "## Model Training"
   ]
  },
  {
   "cell_type": "code",
   "execution_count": null,
   "id": "6a78ec6c",
   "metadata": {},
   "outputs": [],
   "source": [
    "\n",
    "from sklearn.ensemble import RandomForestRegressor\n",
    "from xgboost import XGBRegressor\n",
    "\n",
    "rf_model = RandomForestRegressor()\n",
    "xgb_model = XGBRegressor()\n",
    "\n",
    "X_train = df[['lag1']].iloc[:-12]\n",
    "y_train = df['Total Amount'].iloc[:-12]\n",
    "rf_model.fit(X_train, y_train)\n",
    "xgb_model.fit(X_train, y_train)\n"
   ]
  }
 ],
 "metadata": {},
 "nbformat": 4,
 "nbformat_minor": 5
}
